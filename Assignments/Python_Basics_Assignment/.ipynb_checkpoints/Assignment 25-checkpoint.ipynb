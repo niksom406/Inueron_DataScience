{
 "cells": [
  {
   "cell_type": "markdown",
   "metadata": {},
   "source": [
    "# Python Basic Assignment"
   ]
  },
  {
   "cell_type": "markdown",
   "metadata": {},
   "source": [
    "# Assignment 25"
   ]
  },
  {
   "cell_type": "markdown",
   "metadata": {},
   "source": [
    "<hr style=\"height:2px;border-width:0;color:gray;background-color:gray\">"
   ]
  },
  {
   "cell_type": "markdown",
   "metadata": {},
   "source": [
    "### 1) . What is the difference between enclosing a list comprehension in square brackets and parentheses?"
   ]
  },
  {
   "cell_type": "markdown",
   "metadata": {},
   "source": [
    "- List comprehension is square brackets is an elegant way of defining and creating a list object while list comprehension in parenthesis is generator expression.\n",
    "\n",
    "\n",
    "- List Comprehension allows us to create a list using for loop with lesser code. What normally takes 3-4 lines of code, can be compressed into just a single line.\n",
    "\n",
    "\n",
    "- Generator expression are somewhat similar to list comprehension but the former doesn’t construct list object. Instead of creating a list and keeping the whole sequence in the memory, the generator generates the next element in demand.The Generator Expression allows us to create a generator without the yield keyword. \n",
    "\n",
    "\n",
    "- The generator yields one item at a time and generates item only when in demand. Whereas, in a list comprehension, Python reserves memory for the whole list. \n",
    "\n",
    "\n",
    "- Instead of creating a list and keeping the whole sequence in the memory, the generator generates the next element in demand.\n",
    "\n",
    "\n",
    "- There is a remarkable difference in the execution time. Thus, generator expressions are faster than list comprehension and hence time efficient."
   ]
  },
  {
   "cell_type": "markdown",
   "metadata": {},
   "source": [
    "#### Examples of list comprehension and generator expression"
   ]
  },
  {
   "cell_type": "code",
   "execution_count": 1,
   "metadata": {},
   "outputs": [],
   "source": [
    "l = [x**2 for x in range(100)] #list comprehension\n",
    "g = (x**2 for x in range(100)) #generator"
   ]
  },
  {
   "cell_type": "markdown",
   "metadata": {},
   "source": [
    "#### Type"
   ]
  },
  {
   "cell_type": "code",
   "execution_count": 2,
   "metadata": {},
   "outputs": [
    {
     "name": "stdout",
     "output_type": "stream",
     "text": [
      "<class 'list'>\n",
      "<class 'generator'>\n"
     ]
    }
   ],
   "source": [
    "print(type(l))\n",
    "print(type(g))"
   ]
  },
  {
   "cell_type": "markdown",
   "metadata": {},
   "source": [
    "#### Size in memory"
   ]
  },
  {
   "cell_type": "code",
   "execution_count": 3,
   "metadata": {},
   "outputs": [
    {
     "name": "stdout",
     "output_type": "stream",
     "text": [
      "904\n",
      "112\n"
     ]
    }
   ],
   "source": [
    "import sys\n",
    "print(sys.getsizeof(l))\n",
    "print(sys.getsizeof(g))"
   ]
  },
  {
   "cell_type": "markdown",
   "metadata": {},
   "source": [
    "#### Access by index\n",
    "- List comprehension will generate list and hence will return the value at the mentioned index \n",
    "\n",
    "\n",
    "- Whereas as the generator expression will generate generator which yields one item at a time so it will throw error."
   ]
  },
  {
   "cell_type": "code",
   "execution_count": 4,
   "metadata": {},
   "outputs": [
    {
     "name": "stdout",
     "output_type": "stream",
     "text": [
      "25\n"
     ]
    },
    {
     "ename": "TypeError",
     "evalue": "'generator' object is not subscriptable",
     "output_type": "error",
     "traceback": [
      "\u001b[1;31m---------------------------------------------------------------------------\u001b[0m",
      "\u001b[1;31mTypeError\u001b[0m                                 Traceback (most recent call last)",
      "\u001b[1;32m<ipython-input-4-5233bf5f1410>\u001b[0m in \u001b[0;36m<module>\u001b[1;34m\u001b[0m\n\u001b[0;32m      1\u001b[0m \u001b[0mprint\u001b[0m\u001b[1;33m(\u001b[0m\u001b[0ml\u001b[0m\u001b[1;33m[\u001b[0m\u001b[1;36m5\u001b[0m\u001b[1;33m]\u001b[0m\u001b[1;33m)\u001b[0m\u001b[1;33m\u001b[0m\u001b[1;33m\u001b[0m\u001b[0m\n\u001b[1;32m----> 2\u001b[1;33m \u001b[0mprint\u001b[0m\u001b[1;33m(\u001b[0m\u001b[0mg\u001b[0m\u001b[1;33m[\u001b[0m\u001b[1;36m5\u001b[0m\u001b[1;33m]\u001b[0m\u001b[1;33m)\u001b[0m\u001b[1;33m\u001b[0m\u001b[1;33m\u001b[0m\u001b[0m\n\u001b[0m",
      "\u001b[1;31mTypeError\u001b[0m: 'generator' object is not subscriptable"
     ]
    }
   ],
   "source": [
    "print(l[5])\n",
    "print(g[5])"
   ]
  },
  {
   "cell_type": "markdown",
   "metadata": {},
   "source": [
    "<hr style=\"height:2px;border-width:0;color:gray;background-color:gray\">"
   ]
  },
  {
   "cell_type": "markdown",
   "metadata": {},
   "source": [
    "### 2) What is the relationship between generators and iterators?"
   ]
  },
  {
   "cell_type": "markdown",
   "metadata": {},
   "source": [
    "- Iterator is a more general concept: any object whose class has a __next__ method and an __iter__ method that does return self.\n",
    "\n",
    "\n",
    "\n",
    "-  Every generator is an iterator, but not vice versa. A generator is built by calling a function that has one or more yield expressions, and is an object that meets the previous paragraph's definition of an iterator.\n",
    "\n",
    "\n",
    "\n",
    "- You may want to use a custom iterator, rather than a generator, when you need a class with somewhat complex state-maintaining behavior, or want to expose other methods besides __next__ (and __iter__ and __init__). Most often, a generator is sufficient, and it's simpler to code because state maintenance (within reasonable limits) is basically \"done for you\" by the frame getting suspended and resumed."
   ]
  },
  {
   "cell_type": "markdown",
   "metadata": {},
   "source": [
    "#### Example of iterator"
   ]
  },
  {
   "cell_type": "code",
   "execution_count": 5,
   "metadata": {},
   "outputs": [
    {
     "name": "stdout",
     "output_type": "stream",
     "text": [
      "Hello\n",
      "Hi\n",
      "Welcome\n"
     ]
    }
   ],
   "source": [
    "iter_list = iter(['Hello', 'Hi', 'Welcome'])\n",
    "print(next(iter_list))\n",
    "print(next(iter_list))\n",
    "print(next(iter_list))"
   ]
  },
  {
   "cell_type": "markdown",
   "metadata": {},
   "source": [
    "#### Example of generator"
   ]
  },
  {
   "cell_type": "code",
   "execution_count": 6,
   "metadata": {},
   "outputs": [
    {
     "name": "stdout",
     "output_type": "stream",
     "text": [
      "The square of numbers 1,2,3 are : \n",
      "1\n",
      "4\n",
      "9\n"
     ]
    }
   ],
   "source": [
    "def sq_numbers(n):\n",
    "    for i in range(1, n+1):\n",
    "        yield i*i\n",
    "  \n",
    "  \n",
    "a = sq_numbers(3)\n",
    "  \n",
    "print(\"The square of numbers 1,2,3 are : \")\n",
    "print(next(a))\n",
    "print(next(a))\n",
    "print(next(a))"
   ]
  },
  {
   "cell_type": "markdown",
   "metadata": {},
   "source": [
    "<hr style=\"height:2px;border-width:0;color:gray;background-color:gray\">"
   ]
  },
  {
   "cell_type": "markdown",
   "metadata": {},
   "source": [
    "### 3) What are the signs that a function is a generator function?"
   ]
  },
  {
   "cell_type": "markdown",
   "metadata": {},
   "source": [
    "If a function contains at least one yield statement (it may contain other yield or return statements), it becomes a generator function. \n",
    "The difference is that while a return statement terminates a function entirely, yield statement pauses the function saving all its states and later continues from there on successive calls.\n",
    "The parameter which differenciate generator function from normal function are\n",
    "\n",
    "\n",
    "- Generator function contains one or more yield statements.\n",
    "\n",
    "\n",
    "- When called, it returns an object (iterator) but does not start execution immediately.\n",
    "\n",
    "\n",
    "- Methods like __iter__() and __next__() are implemented automatically. So we can iterate through the items using next().\n",
    "\n",
    "\n",
    "- Once the function yields, the function is paused and the control is transferred to the caller.\n",
    "\n",
    "\n",
    "- Local variables and their states are remembered between successive calls.\n",
    "- Finally, when the function terminates, StopIteration is raised automatically on further calls"
   ]
  },
  {
   "cell_type": "markdown",
   "metadata": {},
   "source": [
    "<hr style=\"height:2px;border-width:0;color:gray;background-color:gray\">"
   ]
  },
  {
   "cell_type": "markdown",
   "metadata": {},
   "source": [
    "### 4) What is the purpose of a yield statement?"
   ]
  },
  {
   "cell_type": "markdown",
   "metadata": {},
   "source": [
    "The yield statement suspends function’s execution and sends a value back to the caller, but retains enough state to enable function to resume where it is left off. When resumed, the function continues execution immediately after the last yield run. This allows its code to produce a series of values over time, rather than computing them at once and sending them back like a list."
   ]
  },
  {
   "cell_type": "markdown",
   "metadata": {},
   "source": [
    "#### Example"
   ]
  },
  {
   "cell_type": "code",
   "execution_count": 7,
   "metadata": {},
   "outputs": [
    {
     "name": "stdout",
     "output_type": "stream",
     "text": [
      "1\n",
      "2\n",
      "3\n"
     ]
    }
   ],
   "source": [
    "def yieldExample():\n",
    "    yield 1\n",
    "    yield 2\n",
    "    yield 3\n",
    "    \n",
    "for i in yieldExample():\n",
    "    print(i)"
   ]
  },
  {
   "cell_type": "markdown",
   "metadata": {},
   "source": [
    "- Return sends a specified value back to its caller whereas Yield can produce a sequence of values. We should use yield when we want to iterate over a sequence, but don’t want to store the entire sequence in memory.\n",
    "\n",
    "\n",
    "- Yield are used in Python generators.\n"
   ]
  },
  {
   "cell_type": "markdown",
   "metadata": {},
   "source": [
    "<hr style=\"height:2px;border-width:0;color:gray;background-color:gray\">"
   ]
  },
  {
   "cell_type": "markdown",
   "metadata": {},
   "source": [
    "###  5) What is the relationship between map calls and list comprehensions? Make a comparison and contrast between the two."
   ]
  },
  {
   "cell_type": "markdown",
   "metadata": {},
   "source": [
    "- List comprehension is more concise and easier to read as compared to map.\n",
    "\n",
    "\n",
    "- List comprehension is a complete substitute for the lambda function as well as the functions map(), filter() and reduce(). For most people the syntax of list comprehension is easier to be grasped.\n",
    "\n",
    "\n",
    "- List comprehension is more concise and easier to read as compared to map.\n",
    "\n",
    "\n",
    "- List comprehension allows filtering. In map, we have no such facility. For example, to print all even numbers in range of 100, we can write [n for n in range(100) if n%2 == 0]. There is no alternate for it in map\n",
    "\n",
    "\n",
    "- List comprehension are used when a list of results is required as map only returns a map object and does not return any list.\n",
    "\n",
    "\n",
    "- List comprehension is faster than map when we need to evaluate expressions that are too long or complicated to express\n",
    "\n",
    "\n",
    "- Map is faster in case of calling an already defined function (as no lambda is required)."
   ]
  },
  {
   "cell_type": "markdown",
   "metadata": {},
   "source": [
    "#### Example of Map Function"
   ]
  },
  {
   "cell_type": "code",
   "execution_count": 8,
   "metadata": {},
   "outputs": [
    {
     "name": "stdout",
     "output_type": "stream",
     "text": [
      "<map object at 0x0000029939DE1F40>\n",
      "[4, 88, 11.0, 12, -14]\n"
     ]
    }
   ],
   "source": [
    "# function to double the number\n",
    "def num (n) :\n",
    "    return n * 2\n",
    "\n",
    "lst = [2, 44, 5.5, 6, -7]\n",
    "\n",
    "# suppose we want to call function\n",
    "# 'num' for each element of lst,\n",
    "# we use map\n",
    "\n",
    "# creates a map object\n",
    "x = map(num, lst)\n",
    "print(x)\n",
    "\n",
    "# returns list\n",
    "print(list(x))"
   ]
  },
  {
   "cell_type": "markdown",
   "metadata": {},
   "source": [
    "#### Example of List Comprehension"
   ]
  },
  {
   "cell_type": "code",
   "execution_count": 9,
   "metadata": {},
   "outputs": [
    {
     "name": "stdout",
     "output_type": "stream",
     "text": [
      "[4, 88, 11.0, 12, -14]\n"
     ]
    }
   ],
   "source": [
    "lst = [2, 44, 5.5, 6, -7]\n",
    "\n",
    "# to double the number\n",
    "# list comprehension\n",
    "x = [i * 2 for i in lst ]\n",
    "print(x)"
   ]
  },
  {
   "cell_type": "markdown",
   "metadata": {},
   "source": [
    " <hr style=\"height:2px;border-width:0;color:gray;background-color:gray\">"
   ]
  }
 ],
 "metadata": {
  "kernelspec": {
   "display_name": "Python 3",
   "language": "python",
   "name": "python3"
  },
  "language_info": {
   "codemirror_mode": {
    "name": "ipython",
    "version": 3
   },
   "file_extension": ".py",
   "mimetype": "text/x-python",
   "name": "python",
   "nbconvert_exporter": "python",
   "pygments_lexer": "ipython3",
   "version": "3.8.3"
  }
 },
 "nbformat": 4,
 "nbformat_minor": 4
}
