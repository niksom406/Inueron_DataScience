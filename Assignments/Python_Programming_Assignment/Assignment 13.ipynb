{
 "cells": [
  {
   "cell_type": "markdown",
   "metadata": {},
   "source": [
    "# Python Basic Programming Assignment"
   ]
  },
  {
   "cell_type": "markdown",
   "metadata": {},
   "source": [
    "## Assignment 13"
   ]
  },
  {
   "cell_type": "markdown",
   "metadata": {},
   "source": [
    "<hr style=\"height:2px;border-width:0;color:gray;background-color:gray\">"
   ]
  },
  {
   "cell_type": "markdown",
   "metadata": {},
   "source": [
    "### 1. Write a program that calculates and prints the value according to the given formula:\n",
    "### `Q = Square root of [(2 * C * D)/H]`\n",
    "### Following are the fixed values of C and H:\n",
    "### C is 50. H is 30.\n",
    "### D is the variable whose values should be input to your program in a comma-separated sequence."
   ]
  },
  {
   "cell_type": "markdown",
   "metadata": {},
   "source": [
    "Example\n",
    "\n",
    "Let us assume the following comma separated input sequence is given to the program:\n",
    "\n",
    "`100,150,180`\n",
    "\n",
    "The output of the program should be:\n",
    "\n",
    "`18,22,24`"
   ]
  },
  {
   "cell_type": "code",
   "execution_count": 7,
   "metadata": {},
   "outputs": [
    {
     "name": "stdout",
     "output_type": "stream",
     "text": [
      "Enter the value of D: 100,150,180\n",
      "Output: 18,22,24\n"
     ]
    }
   ],
   "source": [
    "import math\n",
    "\n",
    "def cal_formula(arr):\n",
    "    C = 50\n",
    "    H = 30\n",
    "    Q = []\n",
    "    for i in arr:\n",
    "        Q.append(str(round(math.sqrt((2 * C * int(i)/H)))))\n",
    "\n",
    "    return \",\".join(Q)\n",
    "\n",
    "D = input(\"Enter the value of D: \")\n",
    "D = D.split(\",\")\n",
    "print(f\"Output: {cal_formula(D)}\")"
   ]
  },
  {
   "cell_type": "markdown",
   "metadata": {},
   "source": [
    "<hr style=\"height:2px;border-width:0;color:gray;background-color:gray\">"
   ]
  },
  {
   "cell_type": "markdown",
   "metadata": {},
   "source": [
    "### 2. Question 2:\n",
    "### Write a program which takes 2 digits, X,Y as input and generates a 2-dimensional array. The element value in the i-th row and j-th column of the array should be i*j.\n",
    "### Note: i=0,1.., X-1; j=0,1,¡Y-1."
   ]
  },
  {
   "cell_type": "markdown",
   "metadata": {},
   "source": [
    "Example\n",
    "\n",
    "Suppose the following inputs are given to the program:\n",
    "\n",
    "`3,5`\n",
    "\n",
    "Then, the output of the program should be:\n",
    "\n",
    "`[[0, 0, 0, 0, 0], [0, 1, 2, 3, 4], [0, 2, 4, 6, 8]]`"
   ]
  },
  {
   "cell_type": "code",
   "execution_count": 10,
   "metadata": {},
   "outputs": [
    {
     "name": "stdout",
     "output_type": "stream",
     "text": [
      "Enter X: 3\n",
      "Enter Y: 5\n",
      "Array Created [[0, 0, 0, 0, 0], [0, 1, 2, 3, 4], [0, 2, 4, 6, 8]]\n"
     ]
    }
   ],
   "source": [
    "def CreateArray(x,y):\n",
    "    lst = []\n",
    "    for i in range(x):\n",
    "        row = []\n",
    "        for j in range(y):\n",
    "            row.append(i*j)\n",
    "        lst.append(row)\n",
    "    return lst\n",
    "\n",
    "X = int(input(\"Enter X: \"))\n",
    "Y = int(input(\"Enter Y: \"))\n",
    "\n",
    "print(f\"Array Created {CreateArray(X,Y)}\")"
   ]
  },
  {
   "cell_type": "markdown",
   "metadata": {},
   "source": [
    "<hr style=\"height:2px;border-width:0;color:gray;background-color:gray\">"
   ]
  },
  {
   "cell_type": "markdown",
   "metadata": {},
   "source": [
    "### 3. Question 3:\n",
    "### Write a program that accepts a comma separated sequence of words as input and prints the words in a comma-separated sequence after sorting them alphabetically.\n",
    "### Suppose the following input is supplied to the program:\n",
    "### `without,hello,bag,world`\n",
    "### Then, the output should be:\n",
    "### `bag,hello,without,world`"
   ]
  },
  {
   "cell_type": "code",
   "execution_count": 16,
   "metadata": {},
   "outputs": [
    {
     "name": "stdout",
     "output_type": "stream",
     "text": [
      "Enter words: without,hello,bag,world\n",
      "Sorted Sequence Alphabetically: bag,hello,without,world\n"
     ]
    }
   ],
   "source": [
    "def SortAlpha(string):\n",
    "    lst = string.split(\",\")\n",
    "    lst.sort()\n",
    "    return \",\".join(lst)\n",
    "\n",
    "string = input(\"Enter words: \")\n",
    "print(f\"Sorted Sequence Alphabetically: {SortAlpha(string)}\")"
   ]
  },
  {
   "cell_type": "markdown",
   "metadata": {},
   "source": [
    "<hr style=\"height:2px;border-width:0;color:gray;background-color:gray\">"
   ]
  },
  {
   "cell_type": "markdown",
   "metadata": {},
   "source": [
    "### 4. Question 4:\n",
    "### Write a program that accepts a sequence of whitespace separated words as input and prints the words after removing all duplicate words and sorting them alphanumerically.\n",
    "### Suppose the following input is supplied to the program:\n",
    "### `hello world and practice makes perfect and hello world again`\n",
    "### Then, the output should be:\n",
    "### `again and hello makes perfect practice world`"
   ]
  },
  {
   "cell_type": "code",
   "execution_count": 18,
   "metadata": {},
   "outputs": [
    {
     "name": "stdout",
     "output_type": "stream",
     "text": [
      "Enter words: hello world and practice makes perfect and hello world again\n",
      "Sorted Sequence Alphabetically: again and hello makes perfect practice world\n"
     ]
    }
   ],
   "source": [
    "def SortAlpha(string):\n",
    "    lst = list(set(string.split(\" \")))\n",
    "    lst.sort()\n",
    "    return \" \".join(lst)\n",
    "\n",
    "string = input(\"Enter words: \")\n",
    "print(f\"Sorted Sequence Alphabetically: {SortAlpha(string)}\")"
   ]
  },
  {
   "cell_type": "markdown",
   "metadata": {},
   "source": [
    "<hr style=\"height:2px;border-width:0;color:gray;background-color:gray\">"
   ]
  },
  {
   "cell_type": "markdown",
   "metadata": {},
   "source": [
    "### 5. Question 5:\n",
    "### Write a program that accepts a sentence and calculate the number of letters and digits.\n",
    "### Suppose the following input is supplied to the program:\n",
    "### `hello world! 123`\n",
    "### Then, the output should be:\n",
    "### `LETTERS 10`\n",
    "### `DIGITS 3`"
   ]
  },
  {
   "cell_type": "code",
   "execution_count": 20,
   "metadata": {},
   "outputs": [
    {
     "name": "stdout",
     "output_type": "stream",
     "text": [
      "Enter string: hello world! 123\n",
      "LETTERS 10\n",
      "DIGITS 3\n"
     ]
    }
   ],
   "source": [
    "def countLD(string):\n",
    "    L = 0\n",
    "    D = 0\n",
    "    for i in string:\n",
    "        if i.isalpha():\n",
    "            L += 1\n",
    "        elif i.isdigit():\n",
    "            D += 1\n",
    "    return L,D\n",
    "\n",
    "str1 = input(\"Enter string: \")\n",
    "L,D = countLD(str1)\n",
    "print(f\"LETTERS {L}\\nDIGITS {D}\")"
   ]
  },
  {
   "cell_type": "markdown",
   "metadata": {},
   "source": [
    "<hr style=\"height:2px;border-width:0;color:gray;background-color:gray\">"
   ]
  },
  {
   "cell_type": "markdown",
   "metadata": {},
   "source": [
    "### 6. Question 6:\n",
    "### A website requires the users to input username and password to register. Write a program to check the validity of password input by users.\n",
    "### Following are the criteria for checking the password:\n",
    "- ***At least 1 letter between [a-z]***\n",
    "- ***At least 1 number between [0-9]***\n",
    "- ***At least 1 letter between [A-Z]***\n",
    "- ***At least 1 character from [$#@]***\n",
    "- ***Minimum length of transaction password: 6***\n",
    "- ***Maximum length of transaction password: 12***\n",
    "### Your program should accept a sequence of comma separated passwords and will check them according to the above criteria. Passwords that match the criteria are to be printed, each separated by a comma."
   ]
  },
  {
   "cell_type": "markdown",
   "metadata": {},
   "source": [
    "Example\n",
    "\n",
    "If the following passwords are given as input to the program:\n",
    "\n",
    "`ABd1234@1,a F1#,2w3E*,2We3345`\n",
    "\n",
    "Then, the output of the program should be:\n",
    "\n",
    "`ABd1234@1`"
   ]
  },
  {
   "cell_type": "code",
   "execution_count": 24,
   "metadata": {},
   "outputs": [
    {
     "name": "stdout",
     "output_type": "stream",
     "text": [
      "Enter string: ABd1234@1,a F1#,2w3E*,2We3345\n",
      "Output ABd1234@1\n"
     ]
    }
   ],
   "source": [
    "import re\n",
    "\n",
    "def passwordChecker(string):\n",
    "    lst = string.split(\",\")\n",
    "    out = []\n",
    "    for i in lst:\n",
    "        if re.search(\"^(?=[^A-Z\\n]*[A-Z])(?=[^a-z\\n]*[a-z])(?=[^0-9\\n]*[0-9])(?=[^#?!@$%^&*\\n-]*[#?!@$%^&*-]).{8,}$\",i):\n",
    "            out.append(i)\n",
    "    return \",\".join(out)\n",
    "\n",
    "intp = input(\"Enter string: \")\n",
    "print(f\"Output {passwordChecker(intp)}\")"
   ]
  },
  {
   "cell_type": "markdown",
   "metadata": {},
   "source": [
    "<hr style=\"height:2px;border-width:0;color:gray;background-color:gray\">"
   ]
  }
 ],
 "metadata": {
  "kernelspec": {
   "display_name": "Python 3",
   "language": "python",
   "name": "python3"
  },
  "language_info": {
   "codemirror_mode": {
    "name": "ipython",
    "version": 3
   },
   "file_extension": ".py",
   "mimetype": "text/x-python",
   "name": "python",
   "nbconvert_exporter": "python",
   "pygments_lexer": "ipython3",
   "version": "3.8.3"
  }
 },
 "nbformat": 4,
 "nbformat_minor": 4
}
