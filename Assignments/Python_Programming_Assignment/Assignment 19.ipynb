{
 "cells": [
  {
   "cell_type": "markdown",
   "metadata": {},
   "source": [
    "# Python Basic Programming Assignment"
   ]
  },
  {
   "cell_type": "markdown",
   "metadata": {},
   "source": [
    "## Assignment 19"
   ]
  },
  {
   "cell_type": "markdown",
   "metadata": {},
   "source": [
    "<hr style=\"height:2px;border-width:0;color:gray;background-color:gray\">"
   ]
  },
  {
   "cell_type": "markdown",
   "metadata": {},
   "source": [
    "### 1. Create a function that takes a string and returns a string in which each character is repeated once.\n",
    "\n",
    "Examples\n",
    "\n",
    "double_char(\"String\") ➞ \"SSttrriinngg\"\n",
    "\n",
    "double_char(\"Hello World!\") ➞ \"HHeelllloo  WWoorrlldd!!\"\n",
    "\n",
    "double_char(\"1234!_ \") ➞ \"11223344!!__  \""
   ]
  },
  {
   "cell_type": "code",
   "execution_count": 1,
   "metadata": {},
   "outputs": [
    {
     "name": "stdout",
     "output_type": "stream",
     "text": [
      "double_char(\"String\")-> SSttrriinngg\n",
      "double_char(\"Hello World!\")-> HHeelllloo  WWoorrlldd!!\n",
      "double_char(\"1234!_ \")-> 11223344!!__  \n"
     ]
    }
   ],
   "source": [
    "def double_char(string):\n",
    "    return \"\".join([i * 2 for i in string])\n",
    "\n",
    "print('double_char(\"String\")->',double_char(\"String\"))\n",
    "print('double_char(\"Hello World!\")->',double_char(\"Hello World!\"))\n",
    "print('double_char(\"1234!_ \")->',double_char(\"1234!_ \"))"
   ]
  },
  {
   "cell_type": "markdown",
   "metadata": {},
   "source": [
    "<hr style=\"height:2px;border-width:0;color:gray;background-color:gray\">"
   ]
  },
  {
   "cell_type": "markdown",
   "metadata": {},
   "source": [
    "### 2. Create a function that reverses a boolean value and returns the string \"boolean expected\" if another variable type is given.\n",
    "\n",
    "Examples\n",
    "\n",
    "reverse(True) ➞ False\n",
    "\n",
    "reverse(False) ➞ True\n",
    "\n",
    "reverse(0) ➞ \"boolean expected\"\n",
    "\n",
    "reverse(None) ➞ \"boolean expected\""
   ]
  },
  {
   "cell_type": "code",
   "execution_count": 5,
   "metadata": {},
   "outputs": [
    {
     "name": "stdout",
     "output_type": "stream",
     "text": [
      "reverse(True)-> False\n",
      "reverse(False)-> True\n",
      "reverse(0)-> boolean expected\n",
      "reverse(None)-> boolean expected\n"
     ]
    }
   ],
   "source": [
    "def reverse(boolean):\n",
    "    return not(boolean) if type(boolean) == bool else \"boolean expected\"\n",
    "\n",
    "print(\"reverse(True)->\",reverse(True))\n",
    "print(\"reverse(False)->\",reverse(False))\n",
    "print(\"reverse(0)->\",reverse(0))\n",
    "print(\"reverse(None)->\",reverse(None))"
   ]
  },
  {
   "cell_type": "markdown",
   "metadata": {},
   "source": [
    "<hr style=\"height:2px;border-width:0;color:gray;background-color:gray\">"
   ]
  },
  {
   "cell_type": "markdown",
   "metadata": {},
   "source": [
    "### 3. Create a function that returns the thickness (in meters) of a piece of paper after folding it n number of times. The paper starts off with a thickness of 0.5mm.\n",
    "\n",
    "Examples\n",
    "\n",
    "num_layers(1) ➞ \"0.001m\"\n",
    "\n",
    "Paper folded once is 1mm (equal to 0.001m)\n",
    "\n",
    "num_layers(4) ➞ \"0.008m\"\n",
    "\n",
    "Paper folded 4 times is 8mm (equal to 0.008m)\n",
    "\n",
    "num_layers(21) ➞ \"1048.576m\"\n",
    "\n",
    "Paper folded 21 times is 1048576mm (equal to 1048.576m)"
   ]
  },
  {
   "cell_type": "code",
   "execution_count": 1,
   "metadata": {},
   "outputs": [
    {
     "name": "stdout",
     "output_type": "stream",
     "text": [
      "num_layers(1)-> 0.001m\n",
      "num_layers(4)-> 0.008m\n",
      "num_layers(21)-> 1048.576m\n"
     ]
    }
   ],
   "source": [
    "def num_layers(num):\n",
    "    thickness = 0.5\n",
    "    for _ in range(num):\n",
    "        thickness *=2\n",
    "    return str(thickness/1000)+ \"m\"\n",
    "\n",
    "print(\"num_layers(1)->\",num_layers(1))\n",
    "print(\"num_layers(4)->\",num_layers(4))\n",
    "print(\"num_layers(21)->\",num_layers(21))"
   ]
  },
  {
   "cell_type": "markdown",
   "metadata": {},
   "source": [
    "<hr style=\"height:2px;border-width:0;color:gray;background-color:gray\">"
   ]
  },
  {
   "cell_type": "markdown",
   "metadata": {},
   "source": [
    "### 4. Create a function that takes a single string as argument and returns an ordered list containing the indices of all capital letters in the string.\n",
    "\n",
    "Examples\n",
    "\n",
    "index_of_caps(\"eDaBiT\") ➞ [1, 3, 5]\n",
    "\n",
    "index_of_caps(\"eQuINoX\") ➞ [1, 3, 4, 6]\n",
    "\n",
    "index_of_caps(\"determine\") ➞ []\n",
    "\n",
    "index_of_caps(\"STRIKE\") ➞ [0, 1, 2, 3, 4, 5]\n",
    "\n",
    "index_of_caps(\"sUn\") ➞ [1]\n"
   ]
  },
  {
   "cell_type": "code",
   "execution_count": 5,
   "metadata": {},
   "outputs": [
    {
     "name": "stdout",
     "output_type": "stream",
     "text": [
      "index_of_caps(\"eDaBiT\")-> [1, 3, 5]\n",
      "index_of_caps(\"eQuINoX\")-> [1, 3, 4, 6]\n",
      "index_of_caps(\"determine\")-> []\n",
      "index_of_caps(\"STRIKE\")-> [0, 1, 2, 3, 4, 5]\n",
      "index_of_caps(\"sUn\")-> [1]\n"
     ]
    }
   ],
   "source": [
    "def index_of_caps(string):\n",
    "    return [string.index(i) for i in string if i.isupper()]\n",
    "\n",
    "print('index_of_caps(\"eDaBiT\")->',index_of_caps(\"eDaBiT\"))\n",
    "print('index_of_caps(\"eQuINoX\")->',index_of_caps(\"eQuINoX\"))\n",
    "print('index_of_caps(\"determine\")->',index_of_caps(\"determine\"))\n",
    "print('index_of_caps(\"STRIKE\")->',index_of_caps(\"STRIKE\"))\n",
    "print('index_of_caps(\"sUn\")->',index_of_caps(\"sUn\"))"
   ]
  },
  {
   "cell_type": "markdown",
   "metadata": {},
   "source": [
    "<hr style=\"height:2px;border-width:0;color:gray;background-color:gray\">"
   ]
  },
  {
   "cell_type": "markdown",
   "metadata": {},
   "source": [
    "### 5. Using list comprehensions, create a function that finds all even numbers from 1 to the given number.\n",
    "\n",
    "Examples\n",
    "\n",
    "find_even_nums(8) ➞ [2, 4, 6, 8]\n",
    "\n",
    "find_even_nums(4) ➞ [2, 4]\n",
    "\n",
    "find_even_nums(2) ➞ [2]\n"
   ]
  },
  {
   "cell_type": "code",
   "execution_count": 7,
   "metadata": {},
   "outputs": [
    {
     "name": "stdout",
     "output_type": "stream",
     "text": [
      "find_even_nums(8)-> [2, 4, 6, 8]\n",
      "find_even_nums(4)-> [2, 4]\n",
      "find_even_nums(2)-> [2]\n"
     ]
    }
   ],
   "source": [
    "def find_even_nums(num):\n",
    "    return [i for i in range(1,num+1) if i%2 == 0]\n",
    "\n",
    "print(\"find_even_nums(8)->\",find_even_nums(8))\n",
    "print(\"find_even_nums(4)->\",find_even_nums(4))\n",
    "print(\"find_even_nums(2)->\",find_even_nums(2))"
   ]
  },
  {
   "cell_type": "markdown",
   "metadata": {},
   "source": [
    "<hr style=\"height:2px;border-width:0;color:gray;background-color:gray\">"
   ]
  }
 ],
 "metadata": {
  "kernelspec": {
   "display_name": "Python 3",
   "language": "python",
   "name": "python3"
  },
  "language_info": {
   "codemirror_mode": {
    "name": "ipython",
    "version": 3
   },
   "file_extension": ".py",
   "mimetype": "text/x-python",
   "name": "python",
   "nbconvert_exporter": "python",
   "pygments_lexer": "ipython3",
   "version": "3.8.3"
  }
 },
 "nbformat": 4,
 "nbformat_minor": 4
}
