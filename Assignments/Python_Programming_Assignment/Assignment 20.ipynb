{
 "cells": [
  {
   "cell_type": "markdown",
   "metadata": {},
   "source": [
    "# Python Basic Programming Assignment"
   ]
  },
  {
   "cell_type": "markdown",
   "metadata": {},
   "source": [
    "## Assignment 20"
   ]
  },
  {
   "cell_type": "markdown",
   "metadata": {},
   "source": [
    "<hr style=\"height:2px;border-width:0;color:gray;background-color:gray\">"
   ]
  },
  {
   "cell_type": "markdown",
   "metadata": {},
   "source": [
    "### 1. Create a function that takes a list of strings and integers, and filters out the list so that it returns a list of integers only.\n",
    "\n",
    "Examples\n",
    "\n",
    "filter_list([1, 2, 3, \"a\", \"b\", 4]) ➞ [1, 2, 3, 4]\n",
    "\n",
    "filter_list([\"A\", 0, \"Edabit\", 1729, \"Python\", \"1729\"]) ➞ [0, 1729]\n",
    "\n",
    "filter_list([\"Nothing\", \"here\"]) ➞ []"
   ]
  },
  {
   "cell_type": "code",
   "execution_count": 1,
   "metadata": {},
   "outputs": [
    {
     "name": "stdout",
     "output_type": "stream",
     "text": [
      "filter_list([1, 2, 3, \"a\", \"b\", 4])-> [1, 2, 3, 4]\n",
      "filter_list([\"A\", 0, \"Edabit\", 1729, \"Python\", \"1729\"])-> [0, 1729]\n",
      "filter_list([\"Nothing\", \"here\"])-> []\n"
     ]
    }
   ],
   "source": [
    "def filter_list(lst):\n",
    "      return [i for i in lst if type(i) == int]\n",
    "    \n",
    "print('filter_list([1, 2, 3, \"a\", \"b\", 4])->',filter_list([1, 2, 3, \"a\", \"b\", 4]))\n",
    "print('filter_list([\"A\", 0, \"Edabit\", 1729, \"Python\", \"1729\"])->',filter_list([\"A\", 0, \"Edabit\", 1729, \"Python\", \"1729\"]))\n",
    "print('filter_list([\"Nothing\", \"here\"])->',filter_list([\"Nothing\", \"here\"]))"
   ]
  },
  {
   "cell_type": "markdown",
   "metadata": {},
   "source": [
    "<hr style=\"height:2px;border-width:0;color:gray;background-color:gray\">"
   ]
  },
  {
   "cell_type": "markdown",
   "metadata": {},
   "source": [
    "### 2. Given a list of numbers, create a function which returns the list but with each element's index in the list added to itself. This means you add 0 to the number at index 0, add 1 to the number at index 1, etc...\n",
    "\n",
    "Examples\n",
    "\n",
    "add_indexes([0, 0, 0, 0, 0]) ➞ [0, 1, 2, 3, 4]\n",
    "\n",
    "add_indexes([1, 2, 3, 4, 5]) ➞ [1, 3, 5, 7, 9]\n",
    "\n",
    "add_indexes([5, 4, 3, 2, 1]) ➞ [5, 5, 5, 5, 5]\n"
   ]
  },
  {
   "cell_type": "code",
   "execution_count": 2,
   "metadata": {},
   "outputs": [
    {
     "name": "stdout",
     "output_type": "stream",
     "text": [
      "add_indexes([0, 0, 0, 0, 0])-> [0, 1, 2, 3, 4]\n",
      "add_indexes([1, 2, 3, 4, 5])-> [1, 3, 5, 7, 9]\n",
      "add_indexes([5, 4, 3, 2, 1])-> [5, 5, 5, 5, 5]\n"
     ]
    }
   ],
   "source": [
    "def add_indexes(lst):\n",
    "    return [lst[i] + i for i in range(len(lst))]\n",
    "\n",
    "print(\"add_indexes([0, 0, 0, 0, 0])->\",add_indexes([0, 0, 0, 0, 0]))\n",
    "print(\"add_indexes([1, 2, 3, 4, 5])->\",add_indexes([1, 2, 3, 4, 5]))\n",
    "print(\"add_indexes([5, 4, 3, 2, 1])->\",add_indexes([5, 4, 3, 2, 1]))"
   ]
  },
  {
   "cell_type": "markdown",
   "metadata": {},
   "source": [
    "<hr style=\"height:2px;border-width:0;color:gray;background-color:gray\">"
   ]
  },
  {
   "cell_type": "markdown",
   "metadata": {},
   "source": [
    "### 3. Create a function that takes the height and radius of a cone as arguments and returns the volume of the cone rounded to the nearest hundredth. See the resources tab for the formula.\n",
    "\n",
    "Examples\n",
    "\n",
    "cone_volume(3, 2) ➞ 12.57\n",
    "\n",
    "cone_volume(15, 6) ➞ 565.49\n",
    "\n",
    "cone_volume(18, 0) ➞ 0"
   ]
  },
  {
   "cell_type": "code",
   "execution_count": 3,
   "metadata": {},
   "outputs": [
    {
     "name": "stdout",
     "output_type": "stream",
     "text": [
      "cone_volume(3, 2)-> 12.57\n",
      "cone_volume(15, 6)-> 565.49\n",
      "cone_volume(18, 0)-> 0.0\n"
     ]
    }
   ],
   "source": [
    "import math\n",
    "def cone_volume(h,r):\n",
    "    return round((math.pi *h* r ** 2)/3,2)\n",
    "\n",
    "print(\"cone_volume(3, 2)->\",cone_volume(3, 2))\n",
    "print(\"cone_volume(15, 6)->\",cone_volume(15, 6))\n",
    "print(\"cone_volume(18, 0)->\",cone_volume(18, 0))"
   ]
  },
  {
   "cell_type": "markdown",
   "metadata": {},
   "source": [
    "<hr style=\"height:2px;border-width:0;color:gray;background-color:gray\">"
   ]
  },
  {
   "cell_type": "markdown",
   "metadata": {},
   "source": [
    "### 4. This Triangular Number Sequence is generated from a pattern of dots that form a triangle. The first 5 numbers of the sequence, or dots, are: 1, 3, 6, 10, 15.This means that the first triangle has just one dot, the second one has three dots, the third one has 6 dots and so on. Write a function that gives the number of dots with its corresponding triangle number of the sequence.\n",
    "\n",
    "Examples\n",
    "\n",
    "triangle(1) ➞ 1\n",
    "\n",
    "triangle(6) ➞ 21\n",
    "\n",
    "triangle(215) ➞ 23220\n"
   ]
  },
  {
   "cell_type": "code",
   "execution_count": 4,
   "metadata": {},
   "outputs": [
    {
     "name": "stdout",
     "output_type": "stream",
     "text": [
      "triangle(1)-> 1\n",
      "triangle(6)-> 21\n",
      "triangle(215)-> 23220\n"
     ]
    }
   ],
   "source": [
    "def triangle(num):\n",
    "    return int(num*(num+1)*0.5)\n",
    "\n",
    "print(\"triangle(1)->\",triangle(1))\n",
    "print(\"triangle(6)->\",triangle(6))\n",
    "print(\"triangle(215)->\",triangle(215))"
   ]
  },
  {
   "cell_type": "markdown",
   "metadata": {},
   "source": [
    "<hr style=\"height:2px;border-width:0;color:gray;background-color:gray\">"
   ]
  },
  {
   "cell_type": "markdown",
   "metadata": {},
   "source": [
    "### 5. Create a function that takes a list of numbers between 1 and 10 (excluding one number) and returns the missing number.\n",
    "\n",
    "Examples\n",
    "\n",
    "missing_num([1, 2, 3, 4, 6, 7, 8, 9, 10]) ➞ 5\n",
    "\n",
    "missing_num([7, 2, 3, 6, 5, 9, 1, 4, 8]) ➞ 10\n",
    "\n",
    "missing_num([10, 5, 1, 2, 4, 6, 8, 3, 9]) ➞ 7\n",
    "\n"
   ]
  },
  {
   "cell_type": "code",
   "execution_count": 5,
   "metadata": {},
   "outputs": [
    {
     "name": "stdout",
     "output_type": "stream",
     "text": [
      "missing_num([1, 2, 3, 4, 6, 7, 8, 9, 10])-> 5\n",
      "missing_num([7, 2, 3, 6, 5, 9, 1, 4, 8])-> 10\n",
      "missing_num([10, 5, 1, 2, 4, 6, 8, 3, 9])-> 7\n"
     ]
    }
   ],
   "source": [
    "def missing_num(lst):\n",
    "    return int(10*11/2 - sum(lst))\n",
    "\n",
    "print(\"missing_num([1, 2, 3, 4, 6, 7, 8, 9, 10])->\",missing_num([1, 2, 3, 4, 6, 7, 8, 9, 10]))\n",
    "print(\"missing_num([7, 2, 3, 6, 5, 9, 1, 4, 8])->\",missing_num([7, 2, 3, 6, 5, 9, 1, 4, 8]))\n",
    "print(\"missing_num([10, 5, 1, 2, 4, 6, 8, 3, 9])->\",missing_num([10, 5, 1, 2, 4, 6, 8, 3, 9]))"
   ]
  },
  {
   "cell_type": "markdown",
   "metadata": {},
   "source": [
    "<hr style=\"height:2px;border-width:0;color:gray;background-color:gray\">"
   ]
  }
 ],
 "metadata": {
  "kernelspec": {
   "display_name": "Python 3",
   "language": "python",
   "name": "python3"
  },
  "language_info": {
   "codemirror_mode": {
    "name": "ipython",
    "version": 3
   },
   "file_extension": ".py",
   "mimetype": "text/x-python",
   "name": "python",
   "nbconvert_exporter": "python",
   "pygments_lexer": "ipython3",
   "version": "3.8.3"
  }
 },
 "nbformat": 4,
 "nbformat_minor": 4
}
