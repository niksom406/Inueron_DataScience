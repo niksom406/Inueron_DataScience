{
 "cells": [
  {
   "cell_type": "markdown",
   "metadata": {},
   "source": [
    "# Python Basic Programming Assignment"
   ]
  },
  {
   "cell_type": "markdown",
   "metadata": {},
   "source": [
    "## Assignment 22"
   ]
  },
  {
   "cell_type": "markdown",
   "metadata": {},
   "source": [
    "<hr style=\"height:2px;border-width:0;color:gray;background-color:gray\">"
   ]
  },
  {
   "cell_type": "markdown",
   "metadata": {},
   "source": [
    "### 1. Create a function that takes three parameters where:\n",
    "- x is the start of the range (inclusive).\n",
    "- y is the end of the range (inclusive).\n",
    "- n is the divisor to be checked against.\n",
    "\n",
    "#### Return an ordered list with numbers in the range that are divisible by the third parameter n. Return an empty list if there are no numbers that are divisible by n.\n",
    "\n",
    "Examples\n",
    "\n",
    "list_operation(1, 10, 3) ➞ [3, 6, 9]\n",
    "\n",
    "list_operation(7, 9, 2) ➞ [8]\n",
    "\n",
    "list_operation(15, 20, 7) ➞ []\n"
   ]
  },
  {
   "cell_type": "code",
   "execution_count": 2,
   "metadata": {},
   "outputs": [
    {
     "name": "stdout",
     "output_type": "stream",
     "text": [
      "list_operation(1, 10, 3)-> [3, 6, 9]\n",
      "list_operation(7, 9, 2)-> [8]\n",
      "list_operation(15, 20, 7)-> []\n"
     ]
    }
   ],
   "source": [
    "def list_operation(start,end,divisor):\n",
    "    return [i for i in range(start,end+1) if i%divisor == 0]\n",
    "\n",
    "print(\"list_operation(1, 10, 3)->\",list_operation(1, 10, 3))\n",
    "print(\"list_operation(7, 9, 2)->\",list_operation(7, 9, 2))\n",
    "print(\"list_operation(15, 20, 7)->\",list_operation(15, 20, 7))"
   ]
  },
  {
   "cell_type": "markdown",
   "metadata": {},
   "source": [
    "<hr style=\"height:2px;border-width:0;color:gray;background-color:gray\">"
   ]
  },
  {
   "cell_type": "markdown",
   "metadata": {},
   "source": [
    "### 2. Create a function that takes in two lists and returns True if the second list follows the first list by one element, and False otherwise. In other words, determine if the second list is the first list shifted to the right by 1.\n",
    "\n",
    "Examples\n",
    "\n",
    "simon_says([1, 2], [5, 1]) ➞ True\n",
    "\n",
    "simon_says([1, 2], [5, 5]) ➞ False\n",
    "\n",
    "simon_says([1, 2, 3, 4, 5], [0, 1, 2, 3, 4]) ➞ True\n",
    "\n",
    "simon_says([1, 2, 3, 4, 5], [5, 5, 1, 2, 3]) ➞ False\n",
    "\n",
    "Notes\n",
    "\n",
    "Both input lists will be of the same length, and will have a minimum length of 2.\n",
    "The values of the 0-indexed element in the second list and the n-1th indexed element in the first list do not matter.\n"
   ]
  },
  {
   "cell_type": "code",
   "execution_count": 2,
   "metadata": {},
   "outputs": [
    {
     "name": "stdout",
     "output_type": "stream",
     "text": [
      "simon_says([1, 2], [5, 1])-> True\n",
      "simon_says([[1, 2], [5, 5])-> False\n",
      "simon_says([1, 2, 3, 4, 5], [0, 1, 2, 3, 4])-> True\n",
      "simon_says([1, 2, 3, 4, 5], [5, 5, 1, 2, 3])-> False\n"
     ]
    }
   ],
   "source": [
    "def simon_says(lst1,lst2):\n",
    "    return lst1[:-1] == lst2[1:]\n",
    "\n",
    "print(\"simon_says([1, 2], [5, 1])->\",simon_says([1, 2], [5, 1]))\n",
    "print(\"simon_says([[1, 2], [5, 5])->\",simon_says([1, 2], [5, 5]))\n",
    "print(\"simon_says([1, 2, 3, 4, 5], [0, 1, 2, 3, 4])->\",simon_says([1, 2, 3, 4, 5], [0, 1, 2, 3, 4]))\n",
    "print(\"simon_says([1, 2, 3, 4, 5], [5, 5, 1, 2, 3])->\",simon_says([1, 2, 3, 4, 5], [5, 5, 1, 2, 3]))"
   ]
  },
  {
   "cell_type": "markdown",
   "metadata": {},
   "source": [
    "<hr style=\"height:2px;border-width:0;color:gray;background-color:gray\">"
   ]
  },
  {
   "cell_type": "markdown",
   "metadata": {},
   "source": [
    "### 3. A group of friends have decided to start a secret society. The name will be the first letter of each of their names, sorted in alphabetical order.Create a function that takes in a list of names and returns the name of the secret society.\n",
    "\n",
    "Examples\n",
    "\n",
    "society_name([\"Adam\", \"Sarah\", \"Malcolm\"]) ➞ \"AMS\"\n",
    "\n",
    "society_name([\"Harry\", \"Newt\", \"Luna\", \"Cho\"]) ➞ \"CHLN\"\n",
    "\n",
    "society_name([\"Phoebe\", \"Chandler\", \"Rachel\", \"Ross\", \"Monica\", \"Joey\"]) \n"
   ]
  },
  {
   "cell_type": "code",
   "execution_count": 6,
   "metadata": {},
   "outputs": [
    {
     "name": "stdout",
     "output_type": "stream",
     "text": [
      "society_name([\"Adam\", \"Sarah\", \"Malcolm\"])-> AMS\n",
      "society_name([\"Harry\", \"Newt\", \"Luna\", \"Cho\"])-> CHLN\n",
      "society_name([\"Phoebe\", \"Chandler\", \"Rachel\", \"Ross\", \"Monica\", \"Joey\"])-> CJMPRR\n"
     ]
    }
   ],
   "source": [
    "def society_name(lst):\n",
    "    return \"\".join(sorted([i[0] for i in lst]))\n",
    "\n",
    "print('society_name([\"Adam\", \"Sarah\", \"Malcolm\"])->',society_name([\"Adam\", \"Sarah\", \"Malcolm\"]))\n",
    "print('society_name([\"Harry\", \"Newt\", \"Luna\", \"Cho\"])->',society_name([\"Harry\", \"Newt\", \"Luna\", \"Cho\"]))\n",
    "print('society_name([\"Phoebe\", \"Chandler\", \"Rachel\", \"Ross\", \"Monica\", \"Joey\"])->',society_name([\"Phoebe\", \"Chandler\", \"Rachel\", \"Ross\", \"Monica\", \"Joey\"]))"
   ]
  },
  {
   "cell_type": "markdown",
   "metadata": {},
   "source": [
    "<hr style=\"height:2px;border-width:0;color:gray;background-color:gray\">"
   ]
  },
  {
   "cell_type": "markdown",
   "metadata": {},
   "source": [
    "### 4. An isogram is a word that has no duplicate letters. Create a function that takes a string and returns either True or False depending on whether or not it's an \"isogram\".\n",
    "\n",
    "Examples\n",
    "\n",
    "is_isogram(\"Algorism\") ➞ True\n",
    "\n",
    "is_isogram(\"PasSword\") ➞ False\n",
    "- Not case sensitive.\n",
    "\n",
    "is_isogram(\"Consecutive\") ➞ False\n",
    "\n",
    "Notes\n",
    "\n",
    "Ignore letter case (should not be case sensitive).\n",
    "All test cases contain valid one word strings.\n"
   ]
  },
  {
   "cell_type": "code",
   "execution_count": 10,
   "metadata": {},
   "outputs": [
    {
     "name": "stdout",
     "output_type": "stream",
     "text": [
      "is_isogram(\"Algorism\")-> True\n",
      "is_isogram(\"PasSword\")-> False\n",
      "is_isogram(\"Consecutive\")-> False\n"
     ]
    }
   ],
   "source": [
    "def is_isogram(string):\n",
    "    return len(list(string.lower())) == len(set(string.lower()))\n",
    "\n",
    "print('is_isogram(\"Algorism\")->',is_isogram(\"Algorism\"))\n",
    "print('is_isogram(\"PasSword\")->',is_isogram(\"PasSword\"))\n",
    "print('is_isogram(\"Consecutive\")->',is_isogram(\"Consecutive\"))"
   ]
  },
  {
   "cell_type": "markdown",
   "metadata": {},
   "source": [
    "<hr style=\"height:2px;border-width:0;color:gray;background-color:gray\">"
   ]
  },
  {
   "cell_type": "markdown",
   "metadata": {},
   "source": [
    "### 5. Create a function that takes a string and returns True or False, depending on whether the characters are in order or not.\n",
    "\n",
    "Examples\n",
    "\n",
    "is_in_order(\"abc\") ➞ True\n",
    "\n",
    "is_in_order(\"edabit\") ➞ False\n",
    "\n",
    "is_in_order(\"123\") ➞ True\n",
    "\n",
    "is_in_order(\"xyzz\") ➞ True\n",
    "\n",
    "Notes\n",
    "You don't have to handle empty strings.\n",
    "\n"
   ]
  },
  {
   "cell_type": "code",
   "execution_count": 12,
   "metadata": {},
   "outputs": [
    {
     "name": "stdout",
     "output_type": "stream",
     "text": [
      "is_in_order(\"abc\")-> True\n",
      "is_in_order(\"edabit\")-> False\n",
      "is_in_order(\"123\")-> True\n",
      "is_in_order(\"xyzz\")-> True\n"
     ]
    }
   ],
   "source": [
    "def is_in_order(string):\n",
    "    return \"\".join(sorted(list(string))) == string\n",
    "\n",
    "print('is_in_order(\"abc\")->',is_in_order(\"abc\"))\n",
    "print('is_in_order(\"edabit\")->',is_in_order(\"edabit\"))\n",
    "print('is_in_order(\"123\")->',is_in_order(\"123\"))\n",
    "print('is_in_order(\"xyzz\")->',is_in_order(\"xyzz\"))"
   ]
  },
  {
   "cell_type": "markdown",
   "metadata": {},
   "source": [
    "<hr style=\"height:2px;border-width:0;color:gray;background-color:gray\">"
   ]
  }
 ],
 "metadata": {
  "kernelspec": {
   "display_name": "Python 3",
   "language": "python",
   "name": "python3"
  },
  "language_info": {
   "codemirror_mode": {
    "name": "ipython",
    "version": 3
   },
   "file_extension": ".py",
   "mimetype": "text/x-python",
   "name": "python",
   "nbconvert_exporter": "python",
   "pygments_lexer": "ipython3",
   "version": "3.8.3"
  }
 },
 "nbformat": 4,
 "nbformat_minor": 4
}
