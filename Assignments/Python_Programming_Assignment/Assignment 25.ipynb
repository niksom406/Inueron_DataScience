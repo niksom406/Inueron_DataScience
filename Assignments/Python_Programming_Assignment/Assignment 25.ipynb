{
 "cells": [
  {
   "cell_type": "markdown",
   "metadata": {},
   "source": [
    "# Python Basic Programming Assignment"
   ]
  },
  {
   "cell_type": "markdown",
   "metadata": {},
   "source": [
    "## Assignment 25"
   ]
  },
  {
   "cell_type": "markdown",
   "metadata": {},
   "source": [
    "<hr style=\"height:2px;border-width:0;color:gray;background-color:gray\">"
   ]
  },
  {
   "cell_type": "markdown",
   "metadata": {},
   "source": [
    "### 1. Create a function that takes three integer arguments (a, b, c) and returns the amount of integers which are of equal value.\n",
    "\n",
    "Examples\n",
    "\n",
    "equal(3, 4, 3) ➞ 2\n",
    "\n",
    "equal(1, 1, 1) ➞ 3\n",
    "\n",
    "equal(3, 4, 1) ➞ 0 \n",
    "\n",
    "Notes\n",
    "\n",
    "Your function must return 0, 2 or 3.\n"
   ]
  },
  {
   "cell_type": "code",
   "execution_count": 2,
   "metadata": {},
   "outputs": [
    {
     "name": "stdout",
     "output_type": "stream",
     "text": [
      "equal(3, 4, 3)-> 2\n",
      "equal(1, 1, 1)-> 3\n",
      "equal(3, 4, 1)-> 0\n"
     ]
    }
   ],
   "source": [
    "def equal(n1,n2,n3):\n",
    "    if n1 == n2 == n3:\n",
    "        return 3\n",
    "    elif n1 == n2 or n1 == n3 or n2 == n3:\n",
    "        return 2\n",
    "    else:\n",
    "        return 0\n",
    "    \n",
    "print(\"equal(3, 4, 3)->\",equal(3, 4, 3))\n",
    "print(\"equal(1, 1, 1)->\",equal(1, 1, 1))\n",
    "print(\"equal(3, 4, 1)->\",equal(3, 4, 1))"
   ]
  },
  {
   "cell_type": "markdown",
   "metadata": {},
   "source": [
    "<hr style=\"height:2px;border-width:0;color:gray;background-color:gray\">"
   ]
  },
  {
   "cell_type": "markdown",
   "metadata": {},
   "source": [
    "### 2. Write a function that converts a dictionary into a list of keys-values tuples.\n",
    "\n",
    "Examples\n",
    "\n",
    "dict_to_list({\n",
    "  \"D\": 1,\n",
    "  \"B\": 2,\n",
    "  \"C\": 3\n",
    "}) ➞ [(\"B\", 2), (\"C\", 3), (\"D\", 1)]\n",
    "\n",
    "dict_to_list({\n",
    "  \"likes\": 2,\n",
    "  \"dislikes\": 3,\n",
    "  \"followers\": 10\n",
    "}) ➞ [(\"dislikes\", 3), (\"followers\", 10), (\"likes\", 2)]\n",
    "\n",
    "Notes\n",
    "\n",
    "Return the elements in the list in alphabetical order.\n"
   ]
  },
  {
   "cell_type": "code",
   "execution_count": 6,
   "metadata": {},
   "outputs": [
    {
     "name": "stdout",
     "output_type": "stream",
     "text": [
      "dict_to_list({ \"D\": 1, \"B\": 2, \"C\": 3 })-> [('D', 1), ('B', 2), ('C', 3)]\n",
      "dict_to_list({ \"likes\": 2, \"dislikes\": 3, \"followers\": 10 })-> [('likes', 2), ('dislikes', 3), ('followers', 10)]\n"
     ]
    }
   ],
   "source": [
    "def dict_to_list(dictionary):\n",
    "    return [(key,value) for key,value in dictionary.items()]\n",
    "\n",
    "print('dict_to_list({ \"D\": 1, \"B\": 2, \"C\": 3 })->',dict_to_list({ \"D\": 1, \"B\": 2, \"C\": 3 }))\n",
    "print('dict_to_list({ \"likes\": 2, \"dislikes\": 3, \"followers\": 10 })->',dict_to_list({ \"likes\": 2, \"dislikes\": 3, \"followers\": 10 }))"
   ]
  },
  {
   "cell_type": "markdown",
   "metadata": {},
   "source": [
    "<hr style=\"height:2px;border-width:0;color:gray;background-color:gray\">"
   ]
  },
  {
   "cell_type": "markdown",
   "metadata": {},
   "source": [
    "### 3. Write a function that creates a dictionary with each (key, value) pair being the (lower case, upper case) versions of a letter, respectively.\n",
    "\n",
    "Examples\n",
    "\n",
    "mapping([\"p\", \"s\"]) ➞ { \"p\": \"P\", \"s\": \"S\" }\n",
    "\n",
    "mapping([\"a\", \"b\", \"c\"]) ➞ { \"a\": \"A\", \"b\": \"B\", \"c\": \"C\" }\n",
    "\n",
    "mapping([\"a\", \"v\", \"y\", \"z\"]) ➞ { \"a\": \"A\", \"v\": \"V\", \"y\": \"Y\", \"z\": \"Z\" }\n",
    "\n",
    "Notes\n",
    "\n",
    "All of the letters in the input list will always be lowercase.\n"
   ]
  },
  {
   "cell_type": "code",
   "execution_count": 10,
   "metadata": {},
   "outputs": [
    {
     "name": "stdout",
     "output_type": "stream",
     "text": [
      "mapping([\"p\",\"s\"])-> {'p': 'P', 's': 'S'}\n",
      "mapping([\"a\", \"b\", \"c\"])-> {'a': 'A', 'b': 'B', 'c': 'C'}\n",
      "mapping([\"a\", \"v\", \"y\", \"z\"])-> {'a': 'A', 'v': 'V', 'y': 'Y', 'z': 'Z'}\n"
     ]
    }
   ],
   "source": [
    "def mapping(lst):\n",
    "    return {lst[i]:lst[i].upper() for i in range(len(lst))}\n",
    "\n",
    "print('mapping([\"p\",\"s\"])->',mapping([\"p\",\"s\"]))\n",
    "print('mapping([\"a\", \"b\", \"c\"])->',mapping([\"a\", \"b\", \"c\"]))\n",
    "print('mapping([\"a\", \"v\", \"y\", \"z\"])->',mapping([\"a\", \"v\", \"y\", \"z\"]))"
   ]
  },
  {
   "cell_type": "markdown",
   "metadata": {},
   "source": [
    "<hr style=\"height:2px;border-width:0;color:gray;background-color:gray\">"
   ]
  },
  {
   "cell_type": "markdown",
   "metadata": {},
   "source": [
    "### 4. Write a function, that replaces all vowels in a string with a specified vowel.\n",
    "\n",
    "Examples\n",
    "\n",
    "vow_replace(\"apples and bananas\", \"u\") ➞ \"upplus und bununus\"\n",
    "\n",
    "vow_replace(\"cheese casserole\", \"o\") ➞ \"chooso cossorolo\"\n",
    "\n",
    "vow_replace(\"stuffed jalapeno poppers\", \"e\") ➞ \"steffed jelepene peppers\"\n",
    "\n",
    "Notes\n",
    "\n",
    "All words will be lowercase. Y is not considered a vowel.\n"
   ]
  },
  {
   "cell_type": "code",
   "execution_count": 14,
   "metadata": {},
   "outputs": [
    {
     "name": "stdout",
     "output_type": "stream",
     "text": [
      "vow_replace(\"apples and bananas\", \"u\")-> upplus und bununus\n",
      "vow_replace(\"cheese casserole\", \"o\")-> chooso cossorolo\n",
      "vow_replace(\"stuffed jalapeno poppers\", \"e\")-> steffed jelepene peppers\n"
     ]
    }
   ],
   "source": [
    "def vow_replace(string,vowel):\n",
    "    return \"\".join([vowel if i in \"aioeu\" else i for i in string])\n",
    "\n",
    "print('vow_replace(\"apples and bananas\", \"u\")->',vow_replace(\"apples and bananas\", \"u\"))\n",
    "print('vow_replace(\"cheese casserole\", \"o\")->',vow_replace(\"cheese casserole\", \"o\"))\n",
    "print('vow_replace(\"stuffed jalapeno poppers\", \"e\")->',vow_replace(\"stuffed jalapeno poppers\", \"e\"))"
   ]
  },
  {
   "cell_type": "markdown",
   "metadata": {},
   "source": [
    "<hr style=\"height:2px;border-width:0;color:gray;background-color:gray\">"
   ]
  },
  {
   "cell_type": "markdown",
   "metadata": {},
   "source": [
    "### 5. Create a function that takes a string as input and capitalizes a letter if its ASCII code is even and returns its lower case version if its ASCII code is odd.\n",
    "\n",
    "Examples\n",
    "\n",
    "ascii_capitalize(\"to be or not to be!\") ➞ \"To Be oR NoT To Be!\"\n",
    "\n",
    "ascii_capitalize(\"THE LITTLE MERMAID\") ➞ \"THe LiTTLe meRmaiD\"\n",
    "\n",
    "ascii_capitalize(\"Oh what a beautiful morning.\") ➞ \"oH wHaT a BeauTiFuL moRNiNg.\"\n"
   ]
  },
  {
   "cell_type": "code",
   "execution_count": 1,
   "metadata": {},
   "outputs": [
    {
     "name": "stdout",
     "output_type": "stream",
     "text": [
      "ascii_capitalize(\"to be or not to be!\")-> To Be oR NoT To Be!\n",
      "ascii_capitalize(\"THE LITTLE MERMAID\")-> THe LiTTLe meRmaiD\n",
      "ascii_capitalize(\"Oh what a beautiful morning.\")-> oH wHaT a BeauTiFuL moRNiNg.\n"
     ]
    }
   ],
   "source": [
    "def ascii_capitalize(string):\n",
    "    return \"\".join([i.upper() if ord(i)%2 == 0 else i.lower() for i in string])\n",
    "\n",
    "print('ascii_capitalize(\"to be or not to be!\")->',ascii_capitalize(\"to be or not to be!\"))\n",
    "print('ascii_capitalize(\"THE LITTLE MERMAID\")->',ascii_capitalize(\"THE LITTLE MERMAID\"))\n",
    "print('ascii_capitalize(\"Oh what a beautiful morning.\")->',ascii_capitalize(\"Oh what a beautiful morning.\"))"
   ]
  },
  {
   "cell_type": "markdown",
   "metadata": {},
   "source": [
    "<hr style=\"height:2px;border-width:0;color:gray;background-color:gray\">"
   ]
  }
 ],
 "metadata": {
  "kernelspec": {
   "display_name": "Python 3",
   "language": "python",
   "name": "python3"
  },
  "language_info": {
   "codemirror_mode": {
    "name": "ipython",
    "version": 3
   },
   "file_extension": ".py",
   "mimetype": "text/x-python",
   "name": "python",
   "nbconvert_exporter": "python",
   "pygments_lexer": "ipython3",
   "version": "3.8.3"
  }
 },
 "nbformat": 4,
 "nbformat_minor": 4
}
