{
 "cells": [
  {
   "cell_type": "markdown",
   "metadata": {},
   "source": [
    "# Python Basic Programming Assignment"
   ]
  },
  {
   "cell_type": "markdown",
   "metadata": {},
   "source": [
    "## Assignment 3"
   ]
  },
  {
   "cell_type": "markdown",
   "metadata": {},
   "source": [
    "<hr style=\"height:2px;border-width:0;color:gray;background-color:gray\">"
   ]
  },
  {
   "cell_type": "markdown",
   "metadata": {},
   "source": [
    "### 1. Write a Python Program to Find the Factorial of a Number?"
   ]
  },
  {
   "cell_type": "code",
   "execution_count": 1,
   "metadata": {},
   "outputs": [
    {
     "name": "stdout",
     "output_type": "stream",
     "text": [
      "Enter a number: 5\n",
      "Factorial of 5 by recursive method: 120\n",
      "Factorial of 5 by iterative method: 120\n"
     ]
    }
   ],
   "source": [
    "#Recursive method\n",
    "def factorial(num):\n",
    "    return 1 if num == 0 or num == 1 else num * factorial(num-1)\n",
    "\n",
    "#iterative method\n",
    "def fact(num):\n",
    "    fact = 1\n",
    "    for i in range(num,0,-1):\n",
    "        fact = fact * i\n",
    "    return fact\n",
    "\n",
    "num = int(input(\"Enter a number: \")) \n",
    "print(f'Factorial of {num} by recursive method: {factorial(num)}')\n",
    "print(f'Factorial of {num} by iterative method: {fact(num)}')"
   ]
  },
  {
   "cell_type": "markdown",
   "metadata": {},
   "source": [
    "<hr style=\"height:2px;border-width:0;color:gray;background-color:gray\">"
   ]
  },
  {
   "cell_type": "markdown",
   "metadata": {},
   "source": [
    "### 2. Write a Python Program to Display the multiplication Table?"
   ]
  },
  {
   "cell_type": "code",
   "execution_count": 2,
   "metadata": {},
   "outputs": [
    {
     "name": "stdout",
     "output_type": "stream",
     "text": [
      "Enter a number 5\n",
      "The multiplication table of 5 is:\n",
      "5 x 1 = 5\n",
      "5 x 2 = 10\n",
      "5 x 3 = 15\n",
      "5 x 4 = 20\n",
      "5 x 5 = 25\n",
      "5 x 6 = 30\n",
      "5 x 7 = 35\n",
      "5 x 8 = 40\n",
      "5 x 9 = 45\n",
      "5 x 10 = 50\n"
     ]
    }
   ],
   "source": [
    "num = int(input(\"Enter a number \"))\n",
    "\n",
    "print(f\"The multiplication table of {num} is:\")\n",
    "for i in range(1,11):\n",
    "    print(f'{num} x {i} = {num*i}')"
   ]
  },
  {
   "cell_type": "markdown",
   "metadata": {},
   "source": [
    "<hr style=\"height:2px;border-width:0;color:gray;background-color:gray\">"
   ]
  },
  {
   "cell_type": "markdown",
   "metadata": {},
   "source": [
    "### 3. Write a Python Program to Print the Fibonacci sequence?"
   ]
  },
  {
   "cell_type": "code",
   "execution_count": 3,
   "metadata": {},
   "outputs": [
    {
     "name": "stdout",
     "output_type": "stream",
     "text": [
      "Enter a length: 5\n",
      "Fibonacci sequence using recursive method: 0 1 1 2 3 \n",
      "Fibonacci sequence using iterative method: 0 1 1 2 3 "
     ]
    }
   ],
   "source": [
    "fibo_length = int(input(\"Enter a length: \"))\n",
    "\n",
    "#recursive method\n",
    "print(\"Fibonacci sequence using recursive method:\",end=\" \")\n",
    "def recursive_fibonacci(n):\n",
    "    if n <= 1:\n",
    "        return n\n",
    "    else:\n",
    "        return recursive_fibonacci(n-1) + recursive_fibonacci(n-2)\n",
    "\n",
    "for i in range(fibo_length):\n",
    "    print(recursive_fibonacci(i),end = \" \")\n",
    "    \n",
    "#iterative method\n",
    "print(\"\\nFibonacci sequence using iterative method:\",end=\" \")\n",
    "def iterative_fibonacci(n):\n",
    "    a = 0\n",
    "    b = 1\n",
    "    print(a,b,end=\" \")\n",
    "    while(n-2):\n",
    "        c=a+b\n",
    "        a,b = b,c\n",
    "        print(c,end=\" \")\n",
    "        n=n-1\n",
    "        \n",
    "iterative_fibonacci(fibo_length)"
   ]
  },
  {
   "cell_type": "markdown",
   "metadata": {},
   "source": [
    "<hr style=\"height:2px;border-width:0;color:gray;background-color:gray\">"
   ]
  },
  {
   "cell_type": "markdown",
   "metadata": {},
   "source": [
    "### 4. Write a Python Program to Check Armstrong Number?"
   ]
  },
  {
   "cell_type": "code",
   "execution_count": 4,
   "metadata": {},
   "outputs": [
    {
     "name": "stdout",
     "output_type": "stream",
     "text": [
      "Enter the number: 407\n",
      "407 is a Armstrong Number.\n"
     ]
    }
   ],
   "source": [
    "def check_armstrong(n):\n",
    "    order = len(str(n))\n",
    "    sum = 0\n",
    "    temp = n\n",
    "    while temp>0:\n",
    "        digit = temp % 10\n",
    "        sum += digit ** order\n",
    "        temp //= 10\n",
    "    if sum == n:\n",
    "        return f\"{n} is a Armstrong Number.\"\n",
    "    else:\n",
    "        return f\"{n} is not a Armstrong Number.\"\n",
    "    \n",
    "num = int(input(\"Enter the number: \"))\n",
    "print(check_armstrong(num))"
   ]
  },
  {
   "cell_type": "markdown",
   "metadata": {},
   "source": [
    "<hr style=\"height:2px;border-width:0;color:gray;background-color:gray\">"
   ]
  },
  {
   "cell_type": "markdown",
   "metadata": {},
   "source": [
    "### 5. Write a Python Program to Find Armstrong Number in an Interval?"
   ]
  },
  {
   "cell_type": "code",
   "execution_count": 5,
   "metadata": {},
   "outputs": [
    {
     "name": "stdout",
     "output_type": "stream",
     "text": [
      "Enter the start of the interval: 1\n",
      "Enter the end of the interval: 1000\n",
      "Armstrong Number between the range 1 and 1000 are:\n",
      "1 153 370 371 407 "
     ]
    }
   ],
   "source": [
    "def check_armstrong(n):\n",
    "    order = 3 if len(str(n)) < 3 else len(str(n))\n",
    "    sum = 0\n",
    "    temp = n\n",
    "    while temp>0:\n",
    "        digit = temp % 10\n",
    "        sum += digit ** order\n",
    "        temp //= 10\n",
    "    if n == sum:\n",
    "        return 1\n",
    "    else:\n",
    "        return 0\n",
    "\n",
    "start = int(input(\"Enter the start of the interval: \"))\n",
    "end = int(input(\"Enter the end of the interval: \"))\n",
    "\n",
    "print(f\"Armstrong Number between the range {start} and {end} are:\")\n",
    "for i in range(start,end+1):\n",
    "    if(check_armstrong(i)):\n",
    "        print(i,end= \" \")"
   ]
  },
  {
   "cell_type": "markdown",
   "metadata": {},
   "source": [
    "<hr style=\"height:2px;border-width:0;color:gray;background-color:gray\">"
   ]
  },
  {
   "cell_type": "markdown",
   "metadata": {},
   "source": [
    "### 6. Write a Python Program to Find the Sum of Natural Numbers?"
   ]
  },
  {
   "cell_type": "code",
   "execution_count": 6,
   "metadata": {},
   "outputs": [
    {
     "name": "stdout",
     "output_type": "stream",
     "text": [
      "Enter the positive number: 8\n",
      "Sum of 8 natural number is 36\n"
     ]
    }
   ],
   "source": [
    "num = int(input(\"Enter the positive number: \"))\n",
    "sum = 0\n",
    "for i in range(1,num+1):\n",
    "    sum += i\n",
    "    \n",
    "print(f\"Sum of {num} natural number is {sum}\")"
   ]
  },
  {
   "cell_type": "markdown",
   "metadata": {},
   "source": [
    "<hr style=\"height:2px;border-width:0;color:gray;background-color:gray\">"
   ]
  }
 ],
 "metadata": {
  "kernelspec": {
   "display_name": "Python 3",
   "language": "python",
   "name": "python3"
  },
  "language_info": {
   "codemirror_mode": {
    "name": "ipython",
    "version": 3
   },
   "file_extension": ".py",
   "mimetype": "text/x-python",
   "name": "python",
   "nbconvert_exporter": "python",
   "pygments_lexer": "ipython3",
   "version": "3.8.3"
  }
 },
 "nbformat": 4,
 "nbformat_minor": 4
}
