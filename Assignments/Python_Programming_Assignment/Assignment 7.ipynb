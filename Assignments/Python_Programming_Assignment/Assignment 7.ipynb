{
 "cells": [
  {
   "cell_type": "markdown",
   "metadata": {},
   "source": [
    "# Python Basic Programming Assignment"
   ]
  },
  {
   "cell_type": "markdown",
   "metadata": {},
   "source": [
    "## Assignment 7"
   ]
  },
  {
   "cell_type": "markdown",
   "metadata": {},
   "source": [
    "<hr style=\"height:2px;border-width:0;color:gray;background-color:gray\">"
   ]
  },
  {
   "cell_type": "markdown",
   "metadata": {},
   "source": [
    "### 1. Write a Python Program to find sum of array?"
   ]
  },
  {
   "cell_type": "code",
   "execution_count": 1,
   "metadata": {},
   "outputs": [
    {
     "name": "stdout",
     "output_type": "stream",
     "text": [
      "Sum of array: 273\n"
     ]
    }
   ],
   "source": [
    "arraylist = [5,4,74,54,84,52]\n",
    "\n",
    "sum = 0\n",
    "for i in arraylist:\n",
    "    sum += i\n",
    "    \n",
    "print(f\"Sum of array: {sum}\")"
   ]
  },
  {
   "cell_type": "markdown",
   "metadata": {},
   "source": [
    "<hr style=\"height:2px;border-width:0;color:gray;background-color:gray\">"
   ]
  },
  {
   "cell_type": "markdown",
   "metadata": {},
   "source": [
    "### 2. Write a Python Program to find largest element in an array?"
   ]
  },
  {
   "cell_type": "code",
   "execution_count": 3,
   "metadata": {},
   "outputs": [
    {
     "name": "stdout",
     "output_type": "stream",
     "text": [
      "The largest element in an array: 84\n"
     ]
    }
   ],
   "source": [
    "arraylist = [5,4,74,54,84,52]\n",
    "\n",
    "largest = arraylist[0]\n",
    "for i in arraylist:\n",
    "    if i > largest:\n",
    "        largest = i\n",
    "\n",
    "print(\"The largest element in an array:\",largest)"
   ]
  },
  {
   "cell_type": "markdown",
   "metadata": {},
   "source": [
    "<hr style=\"height:2px;border-width:0;color:gray;background-color:gray\">"
   ]
  },
  {
   "cell_type": "markdown",
   "metadata": {},
   "source": [
    "### 3. Write a Python Program for array rotation?"
   ]
  },
  {
   "cell_type": "code",
   "execution_count": 11,
   "metadata": {},
   "outputs": [
    {
     "name": "stdout",
     "output_type": "stream",
     "text": [
      "Array after rotation : [52, 84, 54, 74, 4, 5]\n"
     ]
    }
   ],
   "source": [
    "arraylist = [5,4,74,54,84,52]\n",
    "\n",
    "reverse_array = []\n",
    "for i in range(len(arraylist)-1,-1,-1):\n",
    "    reverse_array.append(arraylist[i])\n",
    "    \n",
    "print(\"Array after rotation :\",reverse_array)"
   ]
  },
  {
   "cell_type": "markdown",
   "metadata": {},
   "source": [
    "<hr style=\"height:2px;border-width:0;color:gray;background-color:gray\">"
   ]
  },
  {
   "cell_type": "markdown",
   "metadata": {},
   "source": [
    "### 4. Write a Python Program to Split the array and add the first part to the end?"
   ]
  },
  {
   "cell_type": "code",
   "execution_count": 1,
   "metadata": {},
   "outputs": [
    {
     "data": {
      "text/plain": [
       "[74, 54, 84, 52, 5, 4]"
      ]
     },
     "execution_count": 1,
     "metadata": {},
     "output_type": "execute_result"
    }
   ],
   "source": [
    "def splitAdd(l, split):\n",
    "    '''\n",
    "    l = list\n",
    "    split = splitIndex\n",
    "    '''\n",
    "    \n",
    "    out = []\n",
    "    for i in range(len(l)):\n",
    "        index = (i+len(l)+split)%len(l)\n",
    "        out.append(l[index])\n",
    "        \n",
    "    return out\n",
    "\n",
    "l = [5,4,74,54,84,52]\n",
    "splitIndex = 2\n",
    "splitAdd(l, splitIndex)"
   ]
  },
  {
   "cell_type": "markdown",
   "metadata": {},
   "source": [
    "<hr style=\"height:2px;border-width:0;color:gray;background-color:gray\">"
   ]
  },
  {
   "cell_type": "markdown",
   "metadata": {},
   "source": [
    "### 5. Write a Python Program to check if given array is Monotonic?"
   ]
  },
  {
   "cell_type": "code",
   "execution_count": 8,
   "metadata": {},
   "outputs": [
    {
     "name": "stdout",
     "output_type": "stream",
     "text": [
      "The array [5, 4, 74, 54, 84, 52] is not Monotonic.\n",
      "The array [5, 6, 7, 7, 8, 9] is Monotonic.\n"
     ]
    }
   ],
   "source": [
    "def isMonotonic(A):\n",
    "    \n",
    "    return (all(A[i] <= A[i+1] for i in range(len(A)-1)) \n",
    "            or all(A[i] >= A[i+1] for i in range(len(A)-1)))\n",
    "\n",
    "arraylist = [5,4,74,54,84,52]\n",
    "result = f\"The array {arraylist} is Monotonic.\" if isMonotonic(arraylist) else f\"The array {arraylist} is not Monotonic.\"\n",
    "print(result)\n",
    "\n",
    "arraylist2 = [5,6,7,7,8,9]\n",
    "result = f\"The array {arraylist2} is Monotonic.\" if isMonotonic(arraylist2) else f\"The array {arraylist2} is not Monotonic.\"\n",
    "print(result)"
   ]
  },
  {
   "cell_type": "markdown",
   "metadata": {},
   "source": [
    "<hr style=\"height:2px;border-width:0;color:gray;background-color:gray\">"
   ]
  }
 ],
 "metadata": {
  "kernelspec": {
   "display_name": "Python 3",
   "language": "python",
   "name": "python3"
  },
  "language_info": {
   "codemirror_mode": {
    "name": "ipython",
    "version": 3
   },
   "file_extension": ".py",
   "mimetype": "text/x-python",
   "name": "python",
   "nbconvert_exporter": "python",
   "pygments_lexer": "ipython3",
   "version": "3.8.3"
  }
 },
 "nbformat": 4,
 "nbformat_minor": 4
}
