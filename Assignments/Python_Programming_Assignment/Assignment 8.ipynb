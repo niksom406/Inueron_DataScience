{
 "cells": [
  {
   "cell_type": "markdown",
   "metadata": {},
   "source": [
    "# Python Basic Programming Assignment"
   ]
  },
  {
   "cell_type": "markdown",
   "metadata": {},
   "source": [
    "## Assignment 8"
   ]
  },
  {
   "cell_type": "markdown",
   "metadata": {},
   "source": [
    "<hr style=\"height:2px;border-width:0;color:gray;background-color:gray\">"
   ]
  },
  {
   "cell_type": "markdown",
   "metadata": {},
   "source": [
    "### 1. Write a Python Program to Add Two Matrices?"
   ]
  },
  {
   "cell_type": "code",
   "execution_count": 2,
   "metadata": {},
   "outputs": [
    {
     "name": "stdout",
     "output_type": "stream",
     "text": [
      "First Matrix :\n",
      "[3, 5, 6]\n",
      "[57, 74, 15]\n",
      "[41, 85, 95]\n",
      "\n",
      "Second Matrix :\n",
      "[5, 74, 14]\n",
      "[4, 8, 6]\n",
      "[55, 66, 22]\n",
      " \n",
      "Addition of two matix is : \n",
      "[8, 79, 20]\n",
      "[61, 82, 21]\n",
      "[96, 151, 117]\n"
     ]
    }
   ],
   "source": [
    "def add_matrix(m,n,len_row,len_col):\n",
    "    for i in range(len_row):\n",
    "        local = [0] * len_col\n",
    "        for j in range(len_col):\n",
    "            local[j] = m[i][j] + n[i][j]\n",
    "        result.append(local)\n",
    "    return result\n",
    "\n",
    "mat1 = [[3,5,6],\n",
    "        [57,74,15],\n",
    "        [41,85,95]]\n",
    "mat2 = [[5,74,14],\n",
    "        [4,8,6],\n",
    "        [55,66,22]]\n",
    "\n",
    "row_length1 = len(mat1)\n",
    "col_length1 = len(mat1[0])\n",
    "\n",
    "row_length2 = len(mat2)\n",
    "col_length2 = len(mat2[0])\n",
    "\n",
    "result = []\n",
    "\n",
    "try:\n",
    "    if row_length1 == row_length2 and col_length1 == col_length2:\n",
    "        result = add_matrix(mat1,mat2,row_length1,col_length2)\n",
    "        print(\"First Matrix :\")\n",
    "        for lst in range(row_length1):\n",
    "            print(f'{mat1[lst]}')\n",
    "        print()\n",
    "        print(\"Second Matrix :\")\n",
    "        for lst in range(row_length2):\n",
    "            print(f'{mat2[lst]}')\n",
    "        print(\" \")\n",
    "        print(\"Addition of two matix is : \")\n",
    "        \n",
    "        result_len = len(result)\n",
    "        for lst in range(result_len):\n",
    "            print(f\"{result[lst]}\",end = '\\n')\n",
    "    else:\n",
    "        print(\"Please select proper matrix it's can'nt be added as because M1 x N1 != M2 x N2\")\n",
    "            \n",
    "except Exception as e:\n",
    "    print(e)"
   ]
  },
  {
   "cell_type": "markdown",
   "metadata": {},
   "source": [
    "<hr style=\"height:2px;border-width:0;color:gray;background-color:gray\">"
   ]
  },
  {
   "cell_type": "markdown",
   "metadata": {},
   "source": [
    "### 2. Write a Python Program to Multiply Two Matrices?"
   ]
  },
  {
   "cell_type": "code",
   "execution_count": 8,
   "metadata": {},
   "outputs": [
    {
     "name": "stdout",
     "output_type": "stream",
     "text": [
      "First Matrix :\n",
      "[3, 5, 6]\n",
      "[57, 74, 15]\n",
      "[41, 85, 95]\n",
      "\n",
      "Second Matrix :\n",
      "[5, 74, 14]\n",
      "[4, 8, 6]\n",
      "[55, 66, 22]\n",
      " \n",
      "Multiplication of two matix is : \n",
      "[365, 658, 204]\n",
      "[1406, 5800, 1572]\n",
      "[5770, 9984, 3174]\n"
     ]
    }
   ],
   "source": [
    "def multiply_matrix(mat1,mat2):\n",
    "    for i in range(len(mat1)):\n",
    "        for j in range(len(mat2[0])):\n",
    "            for k in range(len(mat2)):\n",
    "                result[i][j] += mat1[i][k] * mat2[k][j]\n",
    "    return result\n",
    "\n",
    "mat1 = [[3,5,6],\n",
    "        [57,74,15],\n",
    "        [41,85,95]]\n",
    "mat2 = [[5,74,14],\n",
    "        [4,8,6],\n",
    "        [55,66,22]]\n",
    "\n",
    "row_length1 = len(mat1)\n",
    "col_length1 = len(mat1[0])\n",
    "\n",
    "row_length2 = len(mat2)\n",
    "col_length2 = len(mat2[0])\n",
    "\n",
    "result = []\n",
    "for i in range(row_length1):\n",
    "    local = [0] * col_length2\n",
    "    result.append(local)\n",
    "        \n",
    "\n",
    "\n",
    "try:\n",
    "    print(\"First Matrix :\")\n",
    "    for lst in range(len(mat1)):\n",
    "        print(f'{mat1[lst]}')\n",
    "    print()\n",
    "    print(\"Second Matrix :\")\n",
    "    for lst in range(len(mat2)):\n",
    "        print(f'{mat2[lst]}')\n",
    "    print(\" \")\n",
    "    print(\"Multiplication of two matix is : \")\n",
    "\n",
    "    result = multiply_matrix(mat1,mat2)\n",
    "    result_len = len(result)\n",
    "    for lst in range(result_len):\n",
    "        print(f'{result[lst]}')\n",
    "\n",
    "except Exception as e:\n",
    "    print(e)\n",
    "    "
   ]
  },
  {
   "cell_type": "markdown",
   "metadata": {},
   "source": [
    "<hr style=\"height:2px;border-width:0;color:gray;background-color:gray\">"
   ]
  },
  {
   "cell_type": "markdown",
   "metadata": {},
   "source": [
    "### 3. Write a Python Program to Transpose a Matrix?"
   ]
  },
  {
   "cell_type": "code",
   "execution_count": 17,
   "metadata": {},
   "outputs": [
    {
     "name": "stdout",
     "output_type": "stream",
     "text": [
      "Matric : \n",
      "    [1, 5, 6] \n",
      "    [8, 9, 4] \n",
      " \n",
      "Matrix after Transpose : \n",
      "    [1, 8] \n",
      "    [5, 9] \n",
      "    [6, 4] \n",
      " \n"
     ]
    }
   ],
   "source": [
    "def transpose_matrix(mat):\n",
    "    try:\n",
    "        result = []\n",
    "        for i in range(len(mat[0])):\n",
    "            local = [0] * len(mat)\n",
    "            for j in range(len(mat)):\n",
    "                local[j] = mat[j][i]\n",
    "            result.append(local)\n",
    "        return result\n",
    "    except Exception as e:\n",
    "        return e\n",
    "    \n",
    "mat = [[1,5,6],\n",
    "      [8,9,4]]\n",
    "\n",
    "try: \n",
    "    print(\"Matric : \")\n",
    "    for lst in mat:\n",
    "        print(f'    {lst} ')\n",
    "    print(' ')\n",
    "    print(\"Matrix after Transpose : \" )\n",
    "    result = transpose_matrix(mat)\n",
    "    for lst in result:\n",
    "        print(f'    {lst} ')\n",
    "    print(' ')\n",
    "    \n",
    "except Exception as e:\n",
    "    print(e)"
   ]
  },
  {
   "cell_type": "markdown",
   "metadata": {},
   "source": [
    "<hr style=\"height:2px;border-width:0;color:gray;background-color:gray\">"
   ]
  },
  {
   "cell_type": "markdown",
   "metadata": {},
   "source": [
    "### 4. Write a Python Program to Sort Words in Alphabetic Order?"
   ]
  },
  {
   "cell_type": "code",
   "execution_count": 24,
   "metadata": {},
   "outputs": [
    {
     "name": "stdout",
     "output_type": "stream",
     "text": [
      "Enter string which need to sort : Brad came to dinner with us\n",
      "The Normal string : \u001b[1mBrad came to dinner with us\u001b[0m \n",
      "Sorted string : \u001b[1mBrad came dinner to us with \n"
     ]
    }
   ],
   "source": [
    "def string_sort(string):\n",
    "    try:\n",
    "        str1 = string.split()\n",
    "        a = ' '.join(sorted(str1))\n",
    "        return a\n",
    "    except Exception as e:\n",
    "        return e\n",
    "    \n",
    "try:\n",
    "    string = input(\"Enter string which need to sort : \")\n",
    "    print(f\"The Normal string : \\033[1m{string}\\033[0m \\nSorted string : \\033[1m{string_sort(string)} \")\n",
    "    \n",
    "except Exception as e:\n",
    "    print(e)\n",
    "        "
   ]
  },
  {
   "cell_type": "markdown",
   "metadata": {},
   "source": [
    "<hr style=\"height:2px;border-width:0;color:gray;background-color:gray\">"
   ]
  },
  {
   "cell_type": "markdown",
   "metadata": {},
   "source": [
    "### 5. Write a Python Program to Remove Punctuation From a String?"
   ]
  },
  {
   "cell_type": "code",
   "execution_count": 25,
   "metadata": {},
   "outputs": [
    {
     "name": "stdout",
     "output_type": "stream",
     "text": [
      "Enter Name to remove Punctuation : Hello! Folks, we are here to learn, grow and glow!!\n",
      "--------------------------------------------------\n",
      "The Normal string : \u001b[1mHello! Folks, we are here to learn, grow and glow!!\u001b[0m and \n",
      "Punctuation remove string : \u001b[1mHello Folks we are here to learn grow and glow \n"
     ]
    }
   ],
   "source": [
    "import re\n",
    "def remove_punch(string):\n",
    "    try:\n",
    "        patten = '[a-zA-Z1-8 ]'\n",
    "        form = ''\n",
    "        for word in string:\n",
    "            if re.search(patten,word):\n",
    "                form+=word\n",
    "        return form\n",
    "    except Exception as e:\n",
    "        return e      \n",
    "    \n",
    "try:\n",
    "    string = input(\"Enter Name to remove Punctuation : \")\n",
    "    print('-'*50)\n",
    "    print(f\"The Normal string : \\033[1m{string}\\033[0m and \\nPunctuation remove string : \\033[1m{remove_punch(string)} \")\n",
    "    \n",
    "except Exception as e:\n",
    "    print(e)"
   ]
  },
  {
   "cell_type": "markdown",
   "metadata": {},
   "source": [
    "<hr style=\"height:2px;border-width:0;color:gray;background-color:gray\">"
   ]
  }
 ],
 "metadata": {
  "kernelspec": {
   "display_name": "Python 3",
   "language": "python",
   "name": "python3"
  },
  "language_info": {
   "codemirror_mode": {
    "name": "ipython",
    "version": 3
   },
   "file_extension": ".py",
   "mimetype": "text/x-python",
   "name": "python",
   "nbconvert_exporter": "python",
   "pygments_lexer": "ipython3",
   "version": "3.8.3"
  }
 },
 "nbformat": 4,
 "nbformat_minor": 4
}
