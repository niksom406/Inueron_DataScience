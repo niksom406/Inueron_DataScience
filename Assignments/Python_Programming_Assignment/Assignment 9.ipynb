{
 "cells": [
  {
   "cell_type": "markdown",
   "metadata": {},
   "source": [
    "# Python Basic Programming Assignment"
   ]
  },
  {
   "cell_type": "markdown",
   "metadata": {},
   "source": [
    "## Assignment 9"
   ]
  },
  {
   "cell_type": "markdown",
   "metadata": {},
   "source": [
    "<hr style=\"height:2px;border-width:0;color:gray;background-color:gray\">"
   ]
  },
  {
   "cell_type": "markdown",
   "metadata": {},
   "source": [
    "### 1. Write a Python program to check if the given number is a Disarium Number?"
   ]
  },
  {
   "cell_type": "code",
   "execution_count": 2,
   "metadata": {},
   "outputs": [
    {
     "name": "stdout",
     "output_type": "stream",
     "text": [
      "Enter a number to check if it is Disarium Number: 145\n",
      "Given number 145 is not a Disarium number.\n"
     ]
    }
   ],
   "source": [
    "def isDisarium(num):\n",
    "    temp = list(num)\n",
    "    sum = 0\n",
    "    for i in range(len(temp)):\n",
    "        sum += int(temp[i]) ** (i+1)\n",
    "    if int(num) == sum:\n",
    "        return True\n",
    "    return False\n",
    "   \n",
    "number = input(\"Enter a number to check if it is Disarium Number: \")\n",
    "if isDisarium(number):\n",
    "    print(f\"Given number {number} is a Disarium number.\")\n",
    "else:\n",
    "    print(f\"Given number {number} is not a Disarium number.\")"
   ]
  },
  {
   "cell_type": "markdown",
   "metadata": {},
   "source": [
    "<hr style=\"height:2px;border-width:0;color:gray;background-color:gray\">"
   ]
  },
  {
   "cell_type": "markdown",
   "metadata": {},
   "source": [
    "### 2. Write a Python program to print all disarium numbers between 1 to 100?"
   ]
  },
  {
   "cell_type": "code",
   "execution_count": 3,
   "metadata": {},
   "outputs": [
    {
     "name": "stdout",
     "output_type": "stream",
     "text": [
      "Disarium numbers between 1 to 100 are [1, 2, 3, 4, 5, 6, 7, 8, 9, 89]\n"
     ]
    }
   ],
   "source": [
    "disarium_num = []\n",
    "for i in range(1,101):\n",
    "    if isDisarium(str(i)):\n",
    "        disarium_num.append(i)\n",
    "        \n",
    "print(f\"Disarium numbers between 1 to 100 are {disarium_num}\")"
   ]
  },
  {
   "cell_type": "markdown",
   "metadata": {},
   "source": [
    "<hr style=\"height:2px;border-width:0;color:gray;background-color:gray\">"
   ]
  },
  {
   "cell_type": "markdown",
   "metadata": {},
   "source": [
    "### 3. Write a Python program to check if the given number is Happy Number?"
   ]
  },
  {
   "cell_type": "code",
   "execution_count": 6,
   "metadata": {},
   "outputs": [
    {
     "name": "stdout",
     "output_type": "stream",
     "text": [
      "Enter a number to check if it is Happy Number: 19\n",
      "Given number 19 is a Happy number.\n"
     ]
    }
   ],
   "source": [
    "def isHappyNum(num):\n",
    "    visit = set()\n",
    "    while num not in visit:\n",
    "        visit.add(num)\n",
    "        sumOfSquares = 0\n",
    "        while num:\n",
    "            digit = num % 10\n",
    "            digit = digit ** 2\n",
    "            sumOfSquares += digit\n",
    "            num = num // 10\n",
    "        num = sumOfSquares\n",
    "        \n",
    "        if num == 1:\n",
    "            return True\n",
    "    return False\n",
    "\n",
    "number = input(\"Enter a number to check if it is Happy Number: \")\n",
    "if isHappyNum(int(number)):\n",
    "    print(f\"Given number {number} is a Happy number.\")\n",
    "else:\n",
    "    print(f\"Given number {number} is not a Happy number.\")"
   ]
  },
  {
   "cell_type": "markdown",
   "metadata": {},
   "source": [
    "<hr style=\"height:2px;border-width:0;color:gray;background-color:gray\">"
   ]
  },
  {
   "cell_type": "markdown",
   "metadata": {},
   "source": [
    "### 4. Write a Python program to print all happy numbers between 1 and 100?"
   ]
  },
  {
   "cell_type": "code",
   "execution_count": 9,
   "metadata": {},
   "outputs": [
    {
     "name": "stdout",
     "output_type": "stream",
     "text": [
      "Happy numbers between 1 to 100 are [1, 7, 10, 13, 19, 23, 28, 31, 32, 44, 49, 68, 70, 79, 82, 86, 91, 94, 97, 100]\n"
     ]
    }
   ],
   "source": [
    "happy_num = []\n",
    "for i in range(1,101):\n",
    "    if isHappyNum(i):\n",
    "        happy_num.append(i)\n",
    "        \n",
    "print(f\"Happy numbers between 1 to 100 are {happy_num}\")"
   ]
  },
  {
   "cell_type": "markdown",
   "metadata": {},
   "source": [
    "<hr style=\"height:2px;border-width:0;color:gray;background-color:gray\">"
   ]
  },
  {
   "cell_type": "markdown",
   "metadata": {},
   "source": [
    "### 5. Write a Python program to determine whether the given number is a Harshad Number?"
   ]
  },
  {
   "cell_type": "code",
   "execution_count": 18,
   "metadata": {},
   "outputs": [
    {
     "name": "stdout",
     "output_type": "stream",
     "text": [
      "Enter a number to check if it is Harshad Number: 7\n",
      "Given number 7 is a Harshad number.\n"
     ]
    }
   ],
   "source": [
    "def isHarshadNum(num):\n",
    "    temp = list(num)\n",
    "    sum = 0\n",
    "    for i in range(len(temp)):\n",
    "        sum += int(temp[i])\n",
    "    if int(num)%sum == 0:\n",
    "        return True\n",
    "    return False\n",
    "\n",
    "number = input(\"Enter a number to check if it is Harshad Number: \")\n",
    "if isHarshadNum(number):\n",
    "    print(f\"Given number {number} is a Harshad number.\")\n",
    "else:\n",
    "    print(f\"Given number {number} is not a Harshad number.\")"
   ]
  },
  {
   "cell_type": "markdown",
   "metadata": {},
   "source": [
    "<hr style=\"height:2px;border-width:0;color:gray;background-color:gray\">"
   ]
  },
  {
   "cell_type": "markdown",
   "metadata": {},
   "source": [
    "### 6. Write a Python program to print all pronic numbers between 1 and 100?"
   ]
  },
  {
   "cell_type": "code",
   "execution_count": 4,
   "metadata": {},
   "outputs": [
    {
     "name": "stdout",
     "output_type": "stream",
     "text": [
      "Pronic numbers between 1 to 100 are [2, 6, 12, 20, 30, 42, 56, 72, 90]\n"
     ]
    }
   ],
   "source": [
    "def isPronicNum(num):\n",
    "    for i in range(num):\n",
    "        if i * (i+1) == num:\n",
    "            return True\n",
    "    return False\n",
    "\n",
    "pronic_num = []\n",
    "for i in range(1,101):\n",
    "    if isPronicNum(i):\n",
    "        pronic_num.append(i)\n",
    "        \n",
    "print(f\"Pronic numbers between 1 to 100 are {pronic_num}\")"
   ]
  },
  {
   "cell_type": "markdown",
   "metadata": {},
   "source": [
    "<hr style=\"height:2px;border-width:0;color:gray;background-color:gray\">"
   ]
  }
 ],
 "metadata": {
  "kernelspec": {
   "display_name": "Python 3",
   "language": "python",
   "name": "python3"
  },
  "language_info": {
   "codemirror_mode": {
    "name": "ipython",
    "version": 3
   },
   "file_extension": ".py",
   "mimetype": "text/x-python",
   "name": "python",
   "nbconvert_exporter": "python",
   "pygments_lexer": "ipython3",
   "version": "3.8.3"
  }
 },
 "nbformat": 4,
 "nbformat_minor": 4
}
